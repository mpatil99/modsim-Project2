{
 "cells": [
  {
   "cell_type": "markdown",
   "metadata": {},
   "source": [
    "### Project 2\n",
    "\n",
    "Bieber Fever\n",
    "\n",
    "By Manu Patil and Katie Barno"
   ]
  },
  {
   "cell_type": "markdown",
   "metadata": {},
   "source": [
    "# Question: What are the effects of media and boredom on the fans and haters of Justin Bieber? \n",
    "Assuming the fans of Bieber are, \"infected,\" and using an SIR, or SBR, model to illustrate this phenomenon, how does  media influence fans? Boredom? What about those who dislike Bieber simply because of his popularity, the so-called haters? We expand the standard SIR model to account for these two \"diseases.\" "
   ]
  },
  {
   "cell_type": "markdown",
   "metadata": {},
   "source": [
    "The following cells show our replication of the simulation in the Tweedle-Smith paper. We were able to produce a model that yeilded the same results as the paper. From here, we will expand the model to incorporate anti-fans, sweeps of the boredom rate, and a sweep of media coverage from extreme negative to extreme positive."
   ]
  },
  {
   "cell_type": "code",
   "execution_count": 1,
   "metadata": {},
   "outputs": [],
   "source": [
    "# Configure Jupyter so figures appear in the notebook\n",
    "%matplotlib inline\n",
    "\n",
    "# Configure Jupyter to display the assigned value after an assignment\n",
    "%config InteractiveShell.ast_node_interactivity='last_expr_or_assign'\n",
    "\n",
    "# import functions from the modsim.py module\n",
    "from modsim import *\n",
    "from IPython.display import Image"
   ]
  },
  {
   "cell_type": "markdown",
   "metadata": {},
   "source": [
    "The Justin Bieber Model was first fully created by Valerie Tweedle and Robert J Smith? (Yes, the question mark is part of his name). The first part of our computational essay attempts to recreate the model propsed by Valerie Tweedle and Robert J. Smith?"
   ]
  },
  {
   "cell_type": "markdown",
   "metadata": {},
   "source": [
    "   What do our variable represent? While, at its core, this model is based on the SIR model, the SBR model has some sublte differences.\n",
    "   \n",
    "   $S$ : Susceptible is exactly the same as in the SIR model. It represents the portion of the population who are primed to be infected by the Bieber disease. The Tweedle-Smith? paper describes this stock as a \"curious young girl\"\n",
    "   \n",
    "   $B$ : Bieber- Infected represents the portion of the population who are currently infected with the disease. The Tweedle-Smith? paper describes this stock as a \"the same young girl screaming at a concert\"\n",
    "   \n",
    "   $R$ : Recovered is slightly different in comparison to the SIR model. This model considers the fact that \"immunity\" is not a an end state. A member of the model may be infected again and proceed through the entire cycle again. These flows are described in more thorough detail below. The Tweedle-Smith? paper describes this stock as a \"a sullen teenager who won't listen to a word you say, but still wants you to take them to the mall\"\n",
    "   \n",
    "   Let us als explore the parameters that govern our system:\n",
    "   \n",
    "   $\\epsilon$ : The model assumes that total Media Consumption is represented by M. Epsilon is the ratio of positive media to  negative media. It is unitless\n",
    "   \n",
    "   $\\pi$ : The 'recruitment rate' here refers to the rate at which young people enter the susceptible category from outside of the system. It is measured in people month$^{-1}$\n",
    "   \n",
    "   $\\mu$ : The 'maturation rate' represents the rate at which people age out of our system. We are modeling individuals between the ages of five and seventeen years old. With a model lifespan of twelve years, we assume that a 12 of the population matures out of the system each year.\n",
    "   \n",
    "   $\\beta$ : The 'transmission rate' is the rate at which suceptible individuals become fans. It is measured in people$^{-1}$month$^{-1}$ as people become infected as they come in contact with those who are infected.\n",
    "   \n",
    "   $b$ : Our 'boredom rate' is the rate of recovery from the bieber disease. This rate is not necesarily due to negative media, fans have just lost interest. It is measured in month$^{-1}$ with larger values indicated faster boredom.\n",
    "   \n",
    "   $P$ : The 'positive media rate' is the number of positive media events surrounding Bieber in a month. This can include albumn releases, singles, books, or movies. This is measured in month$^{-1}$\n",
    "   \n",
    "   $N$ : The 'negative media rate' is the number of negative media events surrounding Bieber in a month. This considers gossip magazines attempting to slander Bieber's image. \n",
    "   \n",
    "   The media flows make the model slightly more complicated. To be explicit, positive media can cause a recovered individual to move to the susceptible category or moved a susceptible individual to the Bieber-Infected Category. Negative Media can cause a Bieber-Infected individual to move to the susceptible category or cause a susceptible individual to move to the Recovered category. The Figure below illustrates the model\n",
    "   \n",
    "   ![Figure 1: SBR Model](BeiberSaF.jpg)\n",
    "   \n",
    "  \n",
    "\n"
   ]
  },
  {
   "cell_type": "code",
   "execution_count": 2,
   "metadata": {},
   "outputs": [],
   "source": [
    "def make_system(pi, Beta, mu, b ,P, N, epsilon, dt):\n",
    "    \"\"\"Make a system object for the SBR model.\n",
    "    S: Susceptible\n",
    "    B: Bieber-infected\n",
    "    R: Recovered\n",
    "    pi: Recruitment Rate\n",
    "    Beta: Transmission Rate\n",
    "    mu: Maturation Rate\n",
    "    b: Boredom Rate\n",
    "    P: Positive Media Rate\n",
    "    N: Negative Media Rate\n",
    "    epsilon: Positive Media Proportion\n",
    "    \n",
    "    returns: System object\n",
    "    \"\"\"\n",
    "    init = State(S = 1500, B = 3, R = 0);\n",
    "\n",
    "    t0 = 0;\n",
    "    t_end = 12; #chosen to simulate 1 year\n",
    "    \n",
    "    return System(init=init, t0=t0, t_end=t_end,\n",
    "                  pi =pi, \n",
    "                  Beta = Beta, \n",
    "                  mu = mu,\n",
    "                  b  = b,\n",
    "                  P = P,\n",
    "                  N = N, \n",
    "                  epsilon= epsilon,dt=dt);"
   ]
  },
  {
   "cell_type": "code",
   "execution_count": 3,
   "metadata": {},
   "outputs": [],
   "source": [
    "def update_func(state, t, system):\n",
    "    \"\"\"Update the SBR model.\n",
    "    \n",
    "    state: State (S,B,R)\n",
    "    t: time\n",
    "    system: System object\n",
    "    \n",
    "    returns: State (S,B,R)\n",
    "    \"\"\"\n",
    "    unpack(system)\n",
    "    S,B,R = state;\n",
    "    entranceRate = pi # people that enter the system per month\n",
    "    infectedRate = Beta*S*B # number of people infected each month\n",
    "    posMediaPercent = epsilon*P\n",
    "    negMediaPercent = (1-epsilon)*N\n",
    "    boredom = b*B\n",
    "    ds = entranceRate - infectedRate - posMediaPercent*S + negMediaPercent*B + posMediaPercent*R - negMediaPercent*S - mu*S\n",
    "    db = infectedRate + posMediaPercent*S - negMediaPercent*B - boredom - mu*B # paper says R but should be B\n",
    "    dr = boredom - posMediaPercent*R + negMediaPercent*S - mu*R\n",
    "    S += ds* dt\n",
    "    B += db*dt\n",
    "    R += dr*dt\n",
    "\n",
    "    return State(S = S, B = B, R = R);"
   ]
  },
  {
   "cell_type": "code",
   "execution_count": 4,
   "metadata": {},
   "outputs": [],
   "source": [
    "def run_simulation(system, update_func):\n",
    "    \"\"\"Runs a simulation of the system.\n",
    "        \n",
    "    system: System object\n",
    "    update_func: function that updates state\n",
    "    \n",
    "    returns: TimeFrame\n",
    "    \"\"\"\n",
    "    unpack(system)\n",
    "    frame = TimeFrame(columns=init.index)\n",
    "    frame.row[0] = init\n",
    "    \n",
    "    for t in linrange(t0, t_end, dt):\n",
    "        frame.row[t+dt] = update_func(frame.row[t], t, system)\n",
    "    \n",
    "    return frame"
   ]
  },
  {
   "cell_type": "code",
   "execution_count": 5,
   "metadata": {},
   "outputs": [
    {
     "data": {
      "image/png": "[encoded data removed]",
      "text/plain": [
       "<Figure size 432x288 with 1 Axes>"
      ]
     },
     "metadata": {},
     "output_type": "display_data"
    }
   ],
   "source": [
    "system = make_system(10, .00083, 1/144,1/24 , 2, 1, .75,.1) #Given Parameters and dt set to 1/24 such that time is represented in hours\n",
    "frame = run_simulation(system, update_func);\n",
    "plot(frame.S, label  = \"Susceptible\");\n",
    "plot(frame.B, label = \"Bieber-infected\");\n",
    "plot(frame.R, label = \"Recovered\");\n",
    "\n",
    "decorate(xlabel = \"time (months) \", ylabel = \"Population\");\n"
   ]
  },
  {
   "cell_type": "markdown",
   "metadata": {},
   "source": [
    "The above graph displays the model we replicated from the original paper. We produced the same results as the paper for this boredom rate, 1/24. The results are similar to those published in the paper."
   ]
  },
  {
   "cell_type": "code",
   "execution_count": 6,
   "metadata": {},
   "outputs": [
    {
     "data": {
      "image/png": "[encoded data removed]",
      "text/plain": [
       "<Figure size 432x288 with 1 Axes>"
      ]
     },
     "metadata": {},
     "output_type": "display_data"
    }
   ],
   "source": [
    "system = make_system(10, .00083, 1/144,2 , 2, 1, .75,.1) #Given Parameters and dt set to 1/24 such that time is represented in hours\n",
    "frame = run_simulation(system, update_func);\n",
    "plot(frame.S, label  = \"Susceptible\");\n",
    "plot(frame.B, label = \"Bieber-infected\");\n",
    "plot(frame.R, label = \"Recovered\");\n",
    "\n",
    "decorate(xlabel = \"time months \", ylabel = \"Population\");"
   ]
  },
  {
   "cell_type": "markdown",
   "metadata": {},
   "source": [
    "This graph shows the same model as the one in the graph above, only here we have increases the boredom from 1/24 to 2. Again, we plotted this graph to show that we have successfully replicated the simulations we saw in the paper. In this version of the model, the high rate of boredom \n",
    "\n",
    "For the sake of comparison later, we want note that in the model with slower boredom the diseased population approaches a higher equilibrium than those of the susceptible of recovered populations. We notice the opposite effect with the fast boredom case."
   ]
  },
  {
   "cell_type": "markdown",
   "metadata": {},
   "source": [
    "# Change One: Introduction of Haters\n",
    "\n",
    "Due to his enourmous popularity, Justin Bieber has gathered a number of people who dislike him for no reason other than to rebel against what they percieve to be the mainstream. These \"haters\" act almost as \"infected\" as our Bieber fans. The difference is, the hater population is dependant on the fan population. We expand our model from three stocks, S,B, and R; to four, S, B, R, and H. \n",
    "## Grammar check here"
   ]
  },
  {
   "cell_type": "code",
   "execution_count": 7,
   "metadata": {},
   "outputs": [],
   "source": [
    "def make_system_H(pi, Beta, mu, b ,P, N, epsilon, gamma, dt):\n",
    "    \"\"\"Make a system object for the SBR model.\n",
    "    S: Susceptible\n",
    "    B: Bieber-infected\n",
    "    R: Recovered\n",
    "    pi: Recruitment Rate\n",
    "    Beta: Transmission Rate\n",
    "    mu: Maturation Rate\n",
    "    b: Boredom Rate\n",
    "    P: Positive Media Rate\n",
    "    N: Negative Media Rate\n",
    "    epsilon: Positive Media Proportion\n",
    "    gamma = Hater rate\n",
    "    \n",
    "    returns: System object\n",
    "    \"\"\"\n",
    "    init = State(S = 1500, B = 3, R = 0, H = 3);\n",
    "\n",
    "    t0 = 0;\n",
    "    t_end = 100;\n",
    "    \n",
    "    return System(init=init, t0=t0, t_end=t_end,\n",
    "                  pi =pi, \n",
    "                  Beta = Beta, \n",
    "                  mu = mu,\n",
    "                  b  = b,\n",
    "                  P = P,\n",
    "                  N = N, \n",
    "                  epsilon= epsilon,\n",
    "                  gamma = gamma, dt=dt);"
   ]
  },
  {
   "cell_type": "markdown",
   "metadata": {},
   "source": [
    "The function \"make_system_H\" makes a similar system to the original one. The difference is the parameter gamma, which controls the rate at which the suceptible population become \"haters.\""
   ]
  },
  {
   "cell_type": "code",
   "execution_count": 8,
   "metadata": {},
   "outputs": [],
   "source": [
    "def update_func_H(state, t, system):\n",
    "    \"\"\"Update the SBR model.\n",
    "    \n",
    "    state: State (S,B,R)\n",
    "    t: time\n",
    "    system: System object\n",
    "    \n",
    "    returns: State (S,B,R)\n",
    "    \"\"\"\n",
    "    unpack(system)\n",
    "    S,B,R,H = state;\n",
    "    entranceRate = pi # people that enter the system per month\n",
    "    infectedRate = Beta*S*B # number of people infected each month\n",
    "    posMediaPercent = epsilon*P\n",
    "    negMediaPercent = (1-epsilon)*N\n",
    "    \n",
    "    ds = entranceRate - infectedRate - posMediaPercent*S + negMediaPercent*B + posMediaPercent*R - negMediaPercent*S - mu*S -gamma*B\n",
    "    db = infectedRate + posMediaPercent*S - negMediaPercent*B - b*B - mu*B # paper says R but should be B\n",
    "    dr = b*B - posMediaPercent*R - mu*R\n",
    "    dh = negMediaPercent*S + gamma*B - b*H - mu*H\n",
    "    \n",
    "    S += ds*dt\n",
    "    B += db*dt\n",
    "    R += dr*dt\n",
    "    H += dh*dt\n",
    "\n",
    "    return State(S = S, B = B, R = R, H = H);"
   ]
  },
  {
   "cell_type": "markdown",
   "metadata": {},
   "source": [
    "This new update function included a new differential equation for our hater population. Haters come from suceptible due to negative media coverage relating to Bieber, this rate is represented by the \"negMediaPercent\\*S\"  term, or they become haters because they simply object to Biebers following, \"gamma\\*B\". People leave the hater population when they become bored of their haterdom, \"b\\*H\", or when they age out of our system, \"mu\\*H\"."
   ]
  },
  {
   "cell_type": "code",
   "execution_count": null,
   "metadata": {},
   "outputs": [],
   "source": [
    "\n",
    "\n"
   ]
  },
  {
   "cell_type": "code",
   "execution_count": 9,
   "metadata": {},
   "outputs": [
    {
     "data": {
      "image/png": "[encoded data removed]",
      "text/plain": [
       "<Figure size 432x288 with 1 Axes>"
      ]
     },
     "metadata": {},
     "output_type": "display_data"
    }
   ],
   "source": [
    "system = make_system_H(10, .00083, 1/144, 1/24 , 2, 1, .75, 0.01, .1) #Given Parameters and dt set to 1/24 such that time is represented in hours\n",
    "frame = run_simulation(system, update_func_H);\n",
    "\n",
    "plot(frame.S, label  = \"Susceptible\");\n",
    "plot(frame.B, label = \"Bieber-infected\");\n",
    "plot(frame.R, label = \"Recovered\");\n",
    "plot(frame.H, label = \"Haters\");\n",
    "decorate(xlabel = \"time \", ylabel = \"Population\");"
   ]
  },
  {
   "cell_type": "markdown",
   "metadata": {},
   "source": [
    "The model above shows the incorporation of Bieber Haters."
   ]
  },
  {
   "cell_type": "code",
   "execution_count": 10,
   "metadata": {},
   "outputs": [
    {
     "data": {
      "image/png": "[encoded data removed]",
      "text/plain": [
       "<Figure size 432x288 with 1 Axes>"
      ]
     },
     "metadata": {},
     "output_type": "display_data"
    }
   ],
   "source": [
    "system = make_system_H(10, .00083, 1/144, 2, 2, 1, .75,.01,.1) #Given Parameters and dt set to 1/24 such that time is represented in hours\n",
    "frame = run_simulation(system, update_func_H)\n",
    "plot(frame.S, label  = \"Susceptible\");\n",
    "plot(frame.B, label = \"Bieber-infected\");\n",
    "plot(frame.R, label = \"Recovered\");\n",
    "plot(frame.H, label = \"Haters\");\n",
    "\n",
    "decorate(xlabel = \"time \", ylabel = \"Population\");"
   ]
  },
  {
   "cell_type": "markdown",
   "metadata": {},
   "source": [
    "## Sweeping Boredom\n",
    "\n",
    "Below we begin our first parameter sweep. Boredom controls the retention of the fan and hater populations. As boredom is increased, we expect to see both fans and haters leave their respective groups more quickly. "
   ]
  },
  {
   "cell_type": "code",
   "execution_count": 11,
   "metadata": {},
   "outputs": [],
   "source": [
    "def sweep_b(pi, Beta, mu, b_array ,P, N, epsilon, gamma, dt):\n",
    "    \"\"\"Sweep a range of values for b.\n",
    "    \n",
    "    beta_array: array of boredom values\n",
    "    \n",
    "    returns: \n",
    "    sweepB: sweepSeries that maps from b to max infected with main disease\n",
    "    sweepH: sweepSeries that maps from b to max infected with hater disease\n",
    "    \"\"\"\n",
    "    sweepB = SweepSeries()\n",
    "    sweepH = SweepSeries()\n",
    "\n",
    "    for b in b_array:\n",
    "        system = make_system_H(pi, Beta, mu, b ,P, N, epsilon, gamma, dt)\n",
    "        frame = run_simulation(system, update_func_H)\n",
    "        sweepB[system.b] = frame.B.mean()\n",
    "        sweepH[system.b] = frame.H.mean()\n",
    "        \n",
    "    return sweepB, sweepH;"
   ]
  },
  {
   "cell_type": "code",
   "execution_count": 12,
   "metadata": {},
   "outputs": [],
   "source": [
    "boredom_array = linrange(0,2,.01) \n",
    "sweepB, sweepH = sweep_b(10, .00083, 1/144, boredom_array, 2, 1, .75,.01,.1);"
   ]
  },
  {
   "cell_type": "code",
   "execution_count": 13,
   "metadata": {},
   "outputs": [],
   "source": [
    "plot(sweepB, label = \"Bieber-infected\",color = \"r\");\n",
    "plot(sweepH, label = \"Haters\",color = \"b\");\n",
    "decorate(xlabel = \"Boredom\", ylabel = \"Population\");"
   ]
  },
  {
   "cell_type": "markdown",
   "metadata": {},
   "source": [
    "This graph outputs the expected results of having the average population drop down as boredom increases. "
   ]
  },
  {
   "cell_type": "markdown",
   "metadata": {},
   "source": [
    "# Sweeping the Ratio of Positive/Negative Media"
   ]
  },
  {
   "cell_type": "code",
   "execution_count": 17,
   "metadata": {},
   "outputs": [],
   "source": [
    "def sweep_Media_Ratio(pi, Beta, mu, b ,P, N, e_array, gamma, dt):\n",
    "    \"\"\"Sweep a range of values for e.\n",
    "    \n",
    "    e_array: array of epsilon values\n",
    "\n",
    "    \n",
    "    returns: \n",
    "    sweepB: sweepSeries that maps from b to max infected with main disease\n",
    "    sweepH: sweepSeries that maps from b to max infected with hater disease\n",
    "    \"\"\"\n",
    "    sweepB = SweepSeries()\n",
    "    sweepH = SweepSeries()\n",
    "    for e in e_array:\n",
    "        system = make_system_H(pi, Beta, mu, b ,P, N, e,gamma, dt)\n",
    "        frame = run_simulation(system, update_func_H) # Figure out what we actually want to measure here. Figure out which metric is best\n",
    "        sweepB[system.epsilon] = frame.B.mean()\n",
    "        sweepH[system.epsilon] = frame.H.mean()\n",
    "        \n",
    "    return sweepB, sweepH;"
   ]
  },
  {
   "cell_type": "code",
   "execution_count": 20,
   "metadata": {},
   "outputs": [
    {
     "name": "stdout",
     "output_type": "stream",
     "text": [
      "0.0\n",
      "0.01\n",
      "0.02\n",
      "0.03\n",
      "0.04\n",
      "0.05\n",
      "0.060000000000000005\n",
      "0.07\n",
      "0.08\n",
      "0.09\n",
      "0.09999999999999999\n",
      "0.10999999999999999\n",
      "0.11999999999999998\n",
      "0.12999999999999998\n",
      "0.13999999999999999\n",
      "0.15\n",
      "0.16\n",
      "0.17\n",
      "0.18000000000000002\n",
      "0.19000000000000003\n",
      "0.20000000000000004\n",
      "0.21000000000000005\n",
      "0.22000000000000006\n",
      "0.23000000000000007\n",
      "0.24000000000000007\n",
      "0.25000000000000006\n",
      "0.26000000000000006\n",
      "0.2700000000000001\n",
      "0.2800000000000001\n",
      "0.2900000000000001\n",
      "0.3000000000000001\n",
      "0.3100000000000001\n",
      "0.3200000000000001\n",
      "0.3300000000000001\n",
      "0.34000000000000014\n",
      "0.35000000000000014\n",
      "0.36000000000000015\n",
      "0.37000000000000016\n",
      "0.38000000000000017\n",
      "0.3900000000000002\n",
      "0.4000000000000002\n",
      "0.4100000000000002\n",
      "0.4200000000000002\n",
      "0.4300000000000002\n",
      "0.4400000000000002\n",
      "0.45000000000000023\n",
      "0.46000000000000024\n",
      "0.47000000000000025\n",
      "0.48000000000000026\n",
      "0.49000000000000027\n",
      "0.5000000000000002\n",
      "0.5100000000000002\n",
      "0.5200000000000002\n",
      "0.5300000000000002\n",
      "0.5400000000000003\n",
      "0.5500000000000003\n",
      "0.5600000000000003\n",
      "0.5700000000000003\n",
      "0.5800000000000003\n",
      "0.5900000000000003\n",
      "0.6000000000000003\n",
      "0.6100000000000003\n",
      "0.6200000000000003\n",
      "0.6300000000000003\n",
      "0.6400000000000003\n",
      "0.6500000000000004\n",
      "0.6600000000000004\n",
      "0.6700000000000004\n",
      "0.6800000000000004\n",
      "0.6900000000000004\n",
      "0.7000000000000004\n",
      "0.7100000000000004\n",
      "0.7200000000000004\n",
      "0.7300000000000004\n",
      "0.7400000000000004\n",
      "0.7500000000000004\n",
      "0.7600000000000005\n",
      "0.7700000000000005\n",
      "0.7800000000000005\n",
      "0.7900000000000005\n",
      "0.8000000000000005\n",
      "0.8100000000000005\n",
      "0.8200000000000005\n",
      "0.8300000000000005\n",
      "0.8400000000000005\n",
      "0.8500000000000005\n",
      "0.8600000000000005\n",
      "0.8700000000000006\n",
      "0.8800000000000006\n",
      "0.8900000000000006\n",
      "0.9000000000000006\n",
      "0.9100000000000006\n",
      "0.9200000000000006\n",
      "0.9300000000000006\n",
      "0.9400000000000006\n",
      "0.9500000000000006\n",
      "0.9600000000000006\n",
      "0.9700000000000006\n",
      "0.9800000000000006\n",
      "0.9900000000000007\n"
     ]
    }
   ],
   "source": [
    "e_array = linrange(0,1,.01);\n",
    "\n",
    "sweepB,sweepH = sweep_Media_Ratio(10, .00083, 1/144, 1/24, 2, 1, e_array,.01,.1);"
   ]
  },
  {
   "cell_type": "code",
   "execution_count": 21,
   "metadata": {},
   "outputs": [
    {
     "data": {
      "image/png": "[encoded data removed]",
      "text/plain": [
       "<Figure size 432x288 with 1 Axes>"
      ]
     },
     "metadata": {},
     "output_type": "display_data"
    }
   ],
   "source": [
    "plot(sweepB, label = \"Bieber-infected\",color = \"r\");\n",
    "plot(sweepH, label = \"Haters\",color = \"b\");\n",
    "\n",
    "decorate(xlabel = \"Ratio of Positive to Negative Media\", ylabel = \"Population\");"
   ]
  },
  {
   "cell_type": "markdown",
   "metadata": {},
   "source": [
    "This graph, showing the relationship between media and hater population, follows generally what we would expect. When the ratio of positive to negative media is under .5 the hater population thrives on the negative media. After crossing .5 the Bieber infected population surges with the increase in positive media. The Haters continue around the same level thriving off of the elavated Bieber fan levels. However, with the lack of much negative news their population begin to drop off towards complete Media saturation. "
   ]
  },
  {
   "cell_type": "markdown",
   "metadata": {},
   "source": [
    "### ODE STUFFS"
   ]
  },
  {
   "cell_type": "code",
   "execution_count": null,
   "metadata": {},
   "outputs": [],
   "source": [
    "def slope_func(state, t, system):\n",
    "    \"\"\"Slope of the SBR model.\n",
    "    \n",
    "    state: State (S,B,R)\n",
    "    t: time\n",
    "    system: System object\n",
    "    \n",
    "    returns: State (S,B,R)\n",
    "    \"\"\"\n",
    "    unpack(system)\n",
    "    S,B,R = state;\n",
    "    entranceRate = pi # people that enter the system per month\n",
    "    infectedRate = Beta*S*B # number of people infected each month\n",
    "    posMediaPercent = epsilon*P\n",
    "    negMediaPercent = (1-epsilon)*P\n",
    "    boredom = b*B\n",
    "    ds = entranceRate - infectedRate  - mu*S\n",
    "    db = infectedRate - boredom - mu*B # paper says R but should be B\n",
    "    dr = boredom- mu*R\n",
    "  \n",
    "\n",
    "    return ds,db,dr;"
   ]
  },
  {
   "cell_type": "code",
   "execution_count": null,
   "metadata": {},
   "outputs": [],
   "source": [
    "slope_func(init, 0, system)"
   ]
  },
  {
   "cell_type": "code",
   "execution_count": null,
   "metadata": {},
   "outputs": [],
   "source": [
    "system = make_system(10, .00083, 1/144, 1/24, 2, 1, .75,1)\n",
    "results, details = run_ode_solver(system, slope_func)\n",
    "details"
   ]
  },
  {
   "cell_type": "code",
   "execution_count": null,
   "metadata": {},
   "outputs": [],
   "source": [
    "plot(frame.S, label  = \"Susceptible\");\n",
    "plot(frame.B, label = \"Bieber-infected\");\n",
    "plot(frame.R, label = \"Recovered\");\n",
    "\n",
    "decorate(xlabel = \"time \", ylabel = \"Population\");"
   ]
  },
  {
   "cell_type": "code",
   "execution_count": null,
   "metadata": {},
   "outputs": [],
   "source": []
  },
  {
   "cell_type": "markdown",
   "metadata": {},
   "source": [
    "# Interpretation"
   ]
  },
  {
   "cell_type": "markdown",
   "metadata": {},
   "source": [
    "We feel our model is acurate for a number of reasons. First off, in the absence of haters and negative media it matches the results from the paper exactly. When haters are added their interactions in the model are plausible. The hater population reacts to the fan population in a realistic way. We also think the sweeps of boredom and media coverage are realistic representations of what would happen. When boredom is swept from 0 to 2, (this actually didn't make sense to me). The third graph, showing how the type of media coverage effects opinions, showed what we expected to see. "
   ]
  },
  {
   "cell_type": "markdown",
   "metadata": {},
   "source": [
    "# Abstract"
   ]
  },
  {
   "cell_type": "markdown",
   "metadata": {},
   "source": [
    "We expanded the SIR model to include four stocks and several new flows. We have suceptible, Bieber-fan, recovered and Bieber-hater populations. They are influenced by each other, the media, and time. Our model shows us that ultimately, given enough time, the levels of fans, haters, suceptible and recovered become constant. "
   ]
  },
  {
   "cell_type": "code",
   "execution_count": null,
   "metadata": {},
   "outputs": [],
   "source": [
    "\n",
    " "
   ]
  }
 ],
 "metadata": {
  "kernelspec": {
   "display_name": "Python 3",
   "language": "python",
   "name": "python3"
  },
  "language_info": {
   "codemirror_mode": {
    "name": "ipython",
    "version": 3
   },
   "file_extension": ".py",
   "mimetype": "text/x-python",
   "name": "python",
   "nbconvert_exporter": "python",
   "pygments_lexer": "ipython3",
   "version": "3.6.6"
  }
 },
 "nbformat": 4,
 "nbformat_minor": 2
}
