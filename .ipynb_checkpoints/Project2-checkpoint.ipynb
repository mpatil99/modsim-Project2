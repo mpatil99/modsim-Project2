{
 "cells": [
  {
   "cell_type": "markdown",
   "metadata": {},
   "source": [
    "### Practice Notebook\n",
    "\n",
    "Super Deadly dont touch\n",
    "\n",
    "By Manu Patil"
   ]
  },
  {
   "cell_type": "code",
   "execution_count": 1,
   "metadata": {},
   "outputs": [],
   "source": [
    "# Configure Jupyter so figures appear in the notebook\n",
    "%matplotlib inline\n",
    "\n",
    "# Configure Jupyter to display the assigned value after an assignment\n",
    "%config InteractiveShell.ast_node_interactivity='last_expr_or_assign'\n",
    "\n",
    "# import functions from the modsim.py module\n",
    "from modsim import *"
   ]
  },
  {
   "cell_type": "code",
   "execution_count": 25,
   "metadata": {},
   "outputs": [],
   "source": [
    "def make_system(pi, Beta, mu, b ,P, N, epsilon, dt):\n",
    "    \"\"\"Make a system object for the SBR model.\n",
    "    S: Susceptible\n",
    "    B: Bieber-infected\n",
    "    R: Recovered\n",
    "    pi: Recruitment Rate\n",
    "    Beta: Transmission Rate\n",
    "    mu: Maturation Rate\n",
    "    b: Boredom Rate\n",
    "    P: Positive Media Rate\n",
    "    N: Negative Media Rate\n",
    "    epsilon: Positive Media Proportion\n",
    "    \n",
    "    \n",
    "    \n",
    "    returns: System object\n",
    "    \"\"\"\n",
    "    init = State(S = 100, B = 3, R = 0);\n",
    "\n",
    "    t0 = 0\n",
    "    t_end = 200\n",
    "    \n",
    "    return System(init=init, t0=t0, t_end=t_end,\n",
    "                  pi =pi, \n",
    "                  Beta = Beta, \n",
    "                  mu = mu,\n",
    "                  b  = b,\n",
    "                  P = P,\n",
    "                  N = N, \n",
    "                  epsilon= epsilon,dt=dt)"
   ]
  },
  {
   "cell_type": "code",
   "execution_count": 9,
   "metadata": {},
   "outputs": [],
   "source": [
    "def update_func(state, t, system):\n",
    "    \"\"\"Update the SBR model.\n",
    "    \n",
    "    state: State (S,B,R)\n",
    "    t: time\n",
    "    system: System object\n",
    "    \n",
    "    returns: State (S,B,R)\n",
    "    \"\"\"\n",
    "    unpack(system)\n",
    "    S,B,R = state;\n",
    "    entranceRate = pi # people that enter the system per month\n",
    "    infectedRate = Beta*S*B # number of people infected each month\n",
    "    posMediaPercent = epsilon*P\n",
    "    negMediaPercent = (1-epsilon)*P\n",
    "    boredom = b*B\n",
    "    ds = entranceRate - infectedRate - posMediaPercent*S + negMediaPercent*B + posMediaPercent*R - negMediaPercent*S - mu*S\n",
    "    db = infectedRate + posMediaPercent*S - negMediaPercent*B - boredom - mu*R # paper says R but should be B\n",
    "    dr = boredom - posMediaPercent*R + negMediaPercent*S - mu*R\n",
    "    S += ds\n",
    "    B += db\n",
    "    R += dr  \n",
    "\n",
    "    return State(S = S, B = B, R = R);"
   ]
  },
  {
   "cell_type": "code",
   "execution_count": 10,
   "metadata": {},
   "outputs": [],
   "source": [
    "def run_simulation(system, update_func):\n",
    "    \"\"\"Runs a simulation of the system.\n",
    "        \n",
    "    system: System object\n",
    "    update_func: function that updates state\n",
    "    \n",
    "    returns: TimeFrame\n",
    "    \"\"\"\n",
    "    unpack(system)\n",
    "    frame = TimeFrame(columns=init.index)\n",
    "    frame.row[0] = init\n",
    "    \n",
    "    for t in linrange(t0, t_end, dt):\n",
    "        frame.row[t+dt] = update_func(frame.row[t], t, system)\n",
    "    \n",
    "    return frame"
   ]
  },
  {
   "cell_type": "code",
   "execution_count": 33,
   "metadata": {},
   "outputs": [
    {
     "data": {
      "image/png": "[encoded data removed]",
      "text/plain": [
       "<Figure size 432x288 with 1 Axes>"
      ]
     },
     "metadata": {},
     "output_type": "display_data"
    }
   ],
   "source": [
    "system = make_system(10, .00083, 1/144, 1/24, 2, 1, .75,1) #Given Parameters and dt set to 1/24 such that time is represented in hours\n",
    "frame = run_simulation(system, update_func);\n",
    "plot(frame.S, label  = \"Susceptible\");\n",
    "# plot(frame.B, label = \"Bieber-infected\");\n",
    "# plot(frame.R, label = \"Recovered\");\n",
    "\n",
    "decorate(xlabel = \"time \", ylabel = \"Population\");\n"
   ]
  },
  {
   "cell_type": "code",
   "execution_count": null,
   "metadata": {},
   "outputs": [],
   "source": []
  },
  {
   "cell_type": "code",
   "execution_count": null,
   "metadata": {},
   "outputs": [],
   "source": []
  },
  {
   "cell_type": "code",
   "execution_count": 19,
   "metadata": {},
   "outputs": [],
   "source": [
    "def slope_func(state, t, system):\n",
    "    \"\"\"Slope of the SBR model.\n",
    "    \n",
    "    state: State (S,B,R)\n",
    "    t: time\n",
    "    system: System object\n",
    "    \n",
    "    returns: State (S,B,R)\n",
    "    \"\"\"\n",
    "    unpack(system)\n",
    "    S,B,R = state;\n",
    "    entranceRate = pi # people that enter the system per month\n",
    "    infectedRate = Beta*S*B # number of people infected each month\n",
    "    posMediaPercent = epsilon*P\n",
    "    negMediaPercent = (1-epsilon)*P\n",
    "    boredom = b*B\n",
    "    ds = entranceRate - infectedRate - posMediaPercent*S + negMediaPercent*B + posMediaPercent*R - negMediaPercent*S - mu*S\n",
    "    db = infectedRate + posMediaPercent*S - negMediaPercent*B - boredom - mu*R # paper says R but should be B\n",
    "    dr = boredom - posMediaPercent*R + negMediaPercent*S - mu*R\n",
    "  \n",
    "\n",
    "    return ds,db,dr;"
   ]
  },
  {
   "cell_type": "code",
   "execution_count": 20,
   "metadata": {},
   "outputs": [
    {
     "data": {
      "text/plain": [
       "(-189.44344444444445, 148.624, 50.125)"
      ]
     },
     "execution_count": 20,
     "metadata": {},
     "output_type": "execute_result"
    }
   ],
   "source": [
    "slope_func(init, 0, system)"
   ]
  },
  {
   "cell_type": "code",
   "execution_count": 31,
   "metadata": {},
   "outputs": [
    {
     "data": {
      "text/html": [
       "<div>\n",
       "<style scoped>\n",
       "    .dataframe tbody tr th:only-of-type {\n",
       "        vertical-align: middle;\n",
       "    }\n",
       "\n",
       "    .dataframe tbody tr th {\n",
       "        vertical-align: top;\n",
       "    }\n",
       "\n",
       "    .dataframe thead th {\n",
       "        text-align: right;\n",
       "    }\n",
       "</style>\n",
       "<table border=\"1\" class=\"dataframe\">\n",
       "  <thead>\n",
       "    <tr style=\"text-align: right;\">\n",
       "      <th></th>\n",
       "      <th>values</th>\n",
       "    </tr>\n",
       "  </thead>\n",
       "  <tbody>\n",
       "    <tr>\n",
       "      <th>sol</th>\n",
       "      <td>None</td>\n",
       "    </tr>\n",
       "    <tr>\n",
       "      <th>t_events</th>\n",
       "      <td>[]</td>\n",
       "    </tr>\n",
       "    <tr>\n",
       "      <th>nfev</th>\n",
       "      <td>1520</td>\n",
       "    </tr>\n",
       "    <tr>\n",
       "      <th>njev</th>\n",
       "      <td>0</td>\n",
       "    </tr>\n",
       "    <tr>\n",
       "      <th>nlu</th>\n",
       "      <td>0</td>\n",
       "    </tr>\n",
       "    <tr>\n",
       "      <th>status</th>\n",
       "      <td>0</td>\n",
       "    </tr>\n",
       "    <tr>\n",
       "      <th>message</th>\n",
       "      <td>The solver successfully reached the end of the...</td>\n",
       "    </tr>\n",
       "    <tr>\n",
       "      <th>success</th>\n",
       "      <td>True</td>\n",
       "    </tr>\n",
       "  </tbody>\n",
       "</table>\n",
       "</div>"
      ],
      "text/plain": [
       "sol                                                      None\n",
       "t_events                                                   []\n",
       "nfev                                                     1520\n",
       "njev                                                        0\n",
       "nlu                                                         0\n",
       "status                                                      0\n",
       "message     The solver successfully reached the end of the...\n",
       "success                                                  True\n",
       "dtype: object"
      ]
     },
     "execution_count": 31,
     "metadata": {},
     "output_type": "execute_result"
    }
   ],
   "source": [
    "system = make_system(10, .00083, 1/144, 1/24, 2, 1, .75,1)\n",
    "results, details = run_ode_solver(system, slope_func)\n",
    "details"
   ]
  },
  {
   "cell_type": "code",
   "execution_count": 32,
   "metadata": {},
   "outputs": [
    {
     "data": {
      "image/png": "[encoded data removed]",
      "text/plain": [
       "<Figure size 432x288 with 1 Axes>"
      ]
     },
     "metadata": {},
     "output_type": "display_data"
    }
   ],
   "source": [
    "\n",
    "plot(frame.S, label  = \"Susceptible\");\n",
    "# plot(frame.B, label = \"Bieber-infected\");\n",
    "# plot(frame.R, label = \"Recovered\");\n",
    "\n",
    "decorate(xlabel = \"time \", ylabel = \"Population\");"
   ]
  },
  {
   "cell_type": "code",
   "execution_count": null,
   "metadata": {},
   "outputs": [],
   "source": []
  },
  {
   "cell_type": "code",
   "execution_count": null,
   "metadata": {},
   "outputs": [],
   "source": []
  }
 ],
 "metadata": {
  "kernelspec": {
   "display_name": "Python 3",
   "language": "python",
   "name": "python3"
  },
  "language_info": {
   "codemirror_mode": {
    "name": "ipython",
    "version": 3
   },
   "file_extension": ".py",
   "mimetype": "text/x-python",
   "name": "python",
   "nbconvert_exporter": "python",
   "pygments_lexer": "ipython3",
   "version": "3.6.6"
  }
 },
 "nbformat": 4,
 "nbformat_minor": 2
}
