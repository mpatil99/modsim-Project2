{
 "cells": [
  {
   "cell_type": "markdown",
   "metadata": {},
   "source": [
    "## Modeling and Simulation in Python\n",
    "\n",
    "Project 1\n",
    "\n",
    "Manu Patil & Richard Gao"
   ]
  },
  {
   "cell_type": "code",
   "execution_count": 1,
   "metadata": {},
   "outputs": [],
   "source": [
    "# Configure Jupyter so figures appear in the notebook\n",
    "%matplotlib inline\n",
    "\n",
    "# Configure Jupyter to display the assigned value after an assignment\n",
    "%config InteractiveShell.ast_node_interactivity='last_expr_or_assign'\n",
    "\n",
    "# import functions from the modsim library\n",
    "from modsim import *\n",
    "from pandas import read_csv\n",
    "import numpy\n",
    "import math\n",
    "import pprint\n",
    "from functools import reduce"
   ]
  },
  {
   "cell_type": "markdown",
   "metadata": {},
   "source": [
    "### What would be the impact on the U.S. population if the flu vaccination was never introduced?\n",
    "\n",
    "There has been a growing population that believes that the flu vaccine has no effect in preventing the disease. With massive advances in sciences over the years, there is most likely a non-negligble effect of the vaccine. \n",
    "\n",
    "To further dive into this question, we will attempt to model the U.S. population with and without the influenza vaccine. In order to model this hypothetical situation we will look at the following parameters:\n",
    "\n",
    "* number of people vaccinated over time\n",
    "* birth rate\n",
    "* death rate\n",
    "    * due to influenza\n",
    "    * excluding influenza\n",
    "* rate of disease spread\n",
    "* total population\n",
    "\n",
    "TODO:\n",
    "Include 3 state model"
   ]
  },
  {
   "cell_type": "markdown",
   "metadata": {},
   "source": [
    "### Basic Model Breakdown\n",
    "\n",
    "Time unit = months\n",
    "System(population, infected, number of people vaccinated, birth rate, death rate<sans influenza>, infection rate, disease death rate<flu effectiveness>)\n",
    "\n",
    "State( pop, infected people, vaccinated people)\n",
    "Vaccinated people = read in percentage data and apply to population\n",
    "\n",
    "\n",
    "Pop = pop *birthrate –pop *death rate <sans influenza>\n",
    "\n",
    "Without Vaccine Situation\n",
    "\tInfected [t+1] = infected[t] + infected * infection rate\n",
    "\tKilled by flu = Infected* Disease Death rate\n",
    "\n",
    "With Vaccine situation\n",
    "\tVaccinated = read in data\n",
    "Infected [t+1] = infected[t] + infected * infection rate\n",
    "Killed by Flu = Infected * (population – vaccinated people) * Disease Death rate.\n",
    "\n",
    "\n",
    "\n",
    "\n",
    "\n",
    "\n",
    "\n",
    "\n"
   ]
  },
  {
   "cell_type": "markdown",
   "metadata": {},
   "source": [
    "### Read data in from csv\n",
    "\n",
    "Using the read_csv function from pandas to parse and read in influenza data from the Center for Disease Control and Prevention database."
   ]
  },
  {
   "cell_type": "code",
   "execution_count": 2,
   "metadata": {},
   "outputs": [],
   "source": [
    "def fill_list(x, y):\n",
    "    interval = list(range(x, y))\n",
    "    return interval"
   ]
  },
  {
   "cell_type": "code",
   "execution_count": 3,
   "metadata": {},
   "outputs": [],
   "source": [
    "csv = read_csv(\"data/2016-2017.csv\", encoding = \"ISO-8859-1\")\n",
    "\n",
    "# Get the index of where each age group starts\n",
    "new_group_start = []\n",
    "\n",
    "size_of_csv = None\n",
    "\n",
    "for size_of_csv, age_group in enumerate(csv.values[0]):\n",
    "    if not isinstance(age_group, float):\n",
    "        new_group_start.append(size_of_csv)  \n",
    "\n",
    "# Isolate and retrieve just the U.S population row\n",
    "us_pop_row = 54\n",
    "skiprows = list(filter(lambda x : x != 2 and x != us_pop_row, range(0, us_pop_row + 1)))\n",
    "\n",
    "# Go through each age group and get SAMPLE and puth each age groups months into a month array\n",
    "rates_by_month = [[], [], [], [], [], [], [], [], [], [], []] # 2D array containing arrays of rates by different months\n",
    "sample_sizes = [] # 1D array, each index corresponds to an array in rates_by_month\n",
    "months = ['Jul', 'Aug', 'Sep', 'Oct', 'Nov', 'Dec', 'Jan', 'Feb', 'Mar', 'Apr', 'May',]\n",
    "\n",
    "# Loop through each age group    \n",
    "for index in range(0, len(new_group_start)):\n",
    "    if index + 1 == len(new_group_start): # Last age group\n",
    "        interval = fill_list(new_group_start[index], size_of_csv)\n",
    "    else: \n",
    "        interval = fill_list(new_group_start[index], new_group_start[index + 1])\n",
    "\n",
    "    # Get data for an age group\n",
    "    df = read_csv('data/2016-2017.csv', skipinitialspace=True, skiprows=skiprows, usecols=interval, nrows=1, encoding=\"ISO-8859-1\")\n",
    "\n",
    "    # Put sample size for each age group into sample_sizes\n",
    "    sample_sizes.append(df[df.columns[4]].iloc[0])\n",
    "\n",
    "    # Put each month's rate into rates_by_month\n",
    "    for month_num, month in enumerate(months):\n",
    "        month_name = f'{month}.{index}'\n",
    "        if index == 0:\n",
    "            month_name = month\n",
    "        if not isinstance(df[[month_name]].iloc[0][month_name], float):\n",
    "            rates_by_month[month_num].append(0)\n",
    "        else:\n",
    "            rates_by_month[month_num].append(df[[month_name]].iloc[0][month_name])\n",
    "\n",
    "# Compute total sample population in us\n",
    "sample_total = reduce((lambda x, y: x + y), sample_sizes)\n",
    "\n",
    "# Calculate influeza rates by month in us\n",
    "us_influeza_vac_by_month = []\n",
    "for month in rates_by_month:\n",
    "    sum = 0\n",
    "    for index, rate in enumerate(month):\n",
    "        sum += sample_sizes[index] * rate\n",
    "    us_influeza_vac_by_month.append(sum / sample_total)"
   ]
  },
  {
   "cell_type": "markdown",
   "metadata": {},
   "source": [
    "Here we are reporting the U.S. vaccination rates per month."
   ]
  },
  {
   "cell_type": "code",
   "execution_count": 4,
   "metadata": {},
   "outputs": [],
   "source": [
    "# Print us population vaccination by month without compounding \n",
    "vacc = []\n",
    "vacc.insert(0, us_influeza_vac_by_month[0])\n",
    "vacc_prev = vacc[0];\n",
    "for i in range(1,10,1):\n",
    "    vacc.insert(i, us_influeza_vac_by_month[i] - vacc_prev)\n",
    "    vacc_prev = us_influeza_vac_by_month[i] \n",
    "vacc;"
   ]
  },
  {
   "cell_type": "code",
   "execution_count": 5,
   "metadata": {},
   "outputs": [],
   "source": [
    "birth_pop = read_csv('data/BirthRates201718.csv', skipinitialspace=True, usecols=[2]);"
   ]
  },
  {
   "cell_type": "code",
   "execution_count": 6,
   "metadata": {},
   "outputs": [],
   "source": [
    "death_pop = read_csv(\"data/DeathRates2017-18.csv\", skipinitialspace=True, usecols=[2]);"
   ]
  },
  {
   "cell_type": "markdown",
   "metadata": {},
   "source": [
    "### Model"
   ]
  },
  {
   "cell_type": "markdown",
   "metadata": {},
   "source": [
    "The following function sets up the initial parameters for running simulations."
   ]
  },
  {
   "cell_type": "code",
   "execution_count": 17,
   "metadata": {},
   "outputs": [],
   "source": [
    "def Initialize_Simulation(\n",
    "    initPopulation,\n",
    "    vaccinationPercent,\n",
    "    infectionRate,\n",
    "    vaccineEffectiveRate,\n",
    "    infectDeathRate,\n",
    "    diseaseRecoveryRate):\n",
    "    return System(initpopulation=initPopulation,\n",
    "                  vaccinationPercent=vaccinationPercent,\n",
    "                  infection_rate=infectionRate,\n",
    "                  vaccineEffectiveRate=vaccineEffectiveRate,\n",
    "                  infectionDeathRate=infectDeathRate,\n",
    "                  diseaseRecoveryRate=diseaseRecoveryRate)"
   ]
  },
  {
   "cell_type": "markdown",
   "metadata": {},
   "source": [
    "The next three cells are iterative tests that show the devlopment of the model. The first one simply shows the changes in population by month. The second and third one seperate out the vaccinated and infected populations."
   ]
  },
  {
   "cell_type": "code",
   "execution_count": null,
   "metadata": {},
   "outputs": [],
   "source": [
    "def Initialize_Simulation_Test(\n",
    "    initPopulation,\n",
    "    vaccinationPercent,\n",
    "    infectionRate,\n",
    "    vaccineEffectiveRate,\n",
    "    infectDeathRate,\n",
    "    diseaseRecoveryRate):\n",
    "    pops = State(population = TimeSeries(), vaccinated = TimeSeries(), infected = TimeSeries())\n",
    "    system = System(initpopulation=initPopulation, vaccinationPercent=vaccinationPercent, infection_rate=infectionRate, vaccineEffectiveRate=vaccineEffectiveRate, infectionDeathRate=infectDeathRate, diseaseRecoveryRate=diseaseRecoveryRate)\n",
    "    return pops, system\n"
   ]
  },
  {
   "cell_type": "code",
   "execution_count": null,
   "metadata": {},
   "outputs": [],
   "source": [
    "def Population_test():\n",
    "    \n",
    "    pops, system = Initialize_Simulation_Test(300000000, vacc, .1,1,1.6/100000, .2) #initPopulation, vaccinationPercent, #infectionRate, vaccineEffectiveRate, infectDeathRate, #diseaseRecoveryRate\n",
    "\n",
    "    pops.population[0] = system.initpopulation\n",
    "    months = [1,2,3,4,5,6,7,8,9,10]\n",
    "    for i in months:       \n",
    "        pops.population[i] = pops.population[i-1] + birth_pop[birth_pop.columns[0]].iloc[i] - death_pop[death_pop.columns[0]].iloc[i]\n",
    "    plot(pops.population,':', label = 'Population')\n",
    "Population_test()\n",
    "\n",
    "#Change months to range(1,11)\n",
    "#Change i to months"
   ]
  },
  {
   "cell_type": "code",
   "execution_count": null,
   "metadata": {},
   "outputs": [],
   "source": [
    "def Vaccine_population_Test():\n",
    "    pops, system = Initialize_Simulation_Test(300000000, vacc, .1,1,1.6/100000, .2) #initPopulation, vaccinationPercent, #infectionRate, vaccineEffectiveRate, infectDeathRate, #diseaseRecoveryRate\n",
    "\n",
    "    pops.population[0] = system.initpopulation\n",
    "    pops.vaccinated[0] = 0\n",
    "    months = [1,2,3,4,5,6,7,8,9,10]\n",
    "    for i in months:\n",
    "        deltavaccinated = pops.population[i-1] * system.vaccinationPercent[i-1]/100 \n",
    "       \n",
    "        pops.vaccinated[i] = pops.vaccinated[i-1] + deltavaccinated\n",
    "\n",
    "\n",
    "        pops.population[i] = pops.population[i-1] + birth_pop[birth_pop.columns[0]].iloc[i] - death_pop[death_pop.columns[0]].iloc[i] - deltavaccinated\n",
    "\n",
    "    plot(pops.population,':', label = 'Population');\n",
    "    plot(pops.vaccinated, label ='Vaccinated');\n",
    "Vaccine_population_Test()"
   ]
  },
  {
   "cell_type": "markdown",
   "metadata": {},
   "source": [
    "This function considers the actual flu in its calculations. "
   ]
  },
  {
   "cell_type": "code",
   "execution_count": null,
   "metadata": {},
   "outputs": [],
   "source": [
    "def Infection_population_vaccine_Test():\n",
    "    pops, system = Initialize_Simulation_Test(300000000, vacc, .1,1,1.6/100000, .2) #initPopulation, vaccinationPercent, #infectionRate, vaccineEffectiveRate, infectDeathRate, #diseaseRecoveryRate\n",
    "    \n",
    "    pops.population[0] = system.initpopulation\n",
    "    pops.vaccinated[0] = 0;\n",
    "    pops.infected[0] = 0;\n",
    "    months = [1,2,3,4,5,6,7,8,9,10]\n",
    "    for i in months:\n",
    "        deltavaccinated = pops.population[i-1] * system.vaccinationPercent[i-1]/100 \n",
    "        pops.vaccinated[i] = pops.vaccinated[i-1] + deltavaccinated\n",
    "\n",
    "        deltainfected = pops.population[i-1] * system.infection_rate - pops.infected[i-1] * system.infectionDeathRate - pops.infected[i-1] * system.diseaseRecoveryRate\n",
    "        pops.infected[i] = pops.infected[i-1] + deltainfected \n",
    "\n",
    "\n",
    "        pops.population[i] = pops.population[i-1] + birth_pop[birth_pop.columns[0]].iloc[i] - death_pop[death_pop.columns[0]].iloc[i] - deltavaccinated\n",
    "\n",
    "    plot(pops.population,':', label = 'Population');\n",
    "    plot(pops.vaccinated, label ='Vaccinated');\n",
    "    plot(pops.infected, \"--g\", label = 'Infected');\n",
    "    \n",
    "Infection_population_vaccine_Test();"
   ]
  },
  {
   "cell_type": "code",
   "execution_count": null,
   "metadata": {},
   "outputs": [],
   "source": [
    "def sim_perfect_vaccine(system,vaccinated, infected, population):\n",
    "    for month in range(1, 11):\n",
    "        deltavaccinated = population[month-1] * system.vaccinationPercent[month-1] / 100 \\\n",
    "        + infected[month-1] * system.diseaseRecoveryRate\n",
    "        deltainfected = population[month-1] * system.infection_rate - infected[month-1] * \\\n",
    "        system.infectionDeathRate - infected[month-1] * system.diseaseRecoveryRate\n",
    "      \n",
    "        vaccinated[month] = vaccinated[month-1] + deltavaccinated\n",
    "        infected[month] = infected[month-1] + deltainfected \n",
    "\n",
    "        population[month] = population[month-1] + birth_pop[birth_pop.columns[0]].iloc[month] \\\n",
    "        - death_pop[death_pop.columns[0]].iloc[month] - deltavaccinated - deltainfected\n",
    "\n",
    "    return vaccinated, infected, population"
   ]
  },
  {
   "cell_type": "code",
   "execution_count": null,
   "metadata": {},
   "outputs": [],
   "source": [
    "def sim_imperfect_vaccine(system,vaccinated, infected, population):\n",
    "    for month in range(1, 11):\n",
    "        deltavaccinated = population[month-1] * system.vaccinationPercent[month-1] / 100 \\\n",
    "        + infected[month-1] * system.diseaseRecoveryRate\n",
    "        deltainfected = population[month-1] * system.infection_rate - infected[month-1] * \\\n",
    "        system.infectionDeathRate - infected[month-1] * system.diseaseRecoveryRate\n",
    "         \n",
    "        vaccinated[month] = vaccinated[month-1] + deltavaccinated\n",
    "        infected[month] = infected[month-1] + deltainfected \n",
    "        population[month] = population[month-1] + birth_pop[birth_pop.columns[0]].iloc[month] - \\\n",
    "        death_pop[death_pop.columns[0]].iloc[month] - deltavaccinated - deltainfected\n",
    "\n",
    "    return vaccinated, infected, population"
   ]
  },
  {
   "cell_type": "code",
   "execution_count": null,
   "metadata": {},
   "outputs": [],
   "source": [
    "def sim_without_vaccine(system,vaccinated, infected, population):\n",
    "    for month in range(1, 11):\n",
    "        vaccinated[month] = 0;\n",
    "\n",
    "        deltainfected = population[month-1] * system.infection_rate - infected[month-1] \\\n",
    "        * system.infectionDeathRate - infected[month-1] * system.diseaseRecoveryRate\n",
    "        infected[month] = infected[month-1] + deltainfected \n",
    "\n",
    "\n",
    "        population[month] = population[month-1] + birth_pop[birth_pop.columns[0]].iloc[month] \\\n",
    "        - death_pop[death_pop.columns[0]].iloc[month] - deltainfected #-deltavaccinated\n",
    "\n",
    "    return vaccinated, infected, population"
   ]
  },
  {
   "cell_type": "code",
   "execution_count": null,
   "metadata": {},
   "outputs": [],
   "source": [
    "def run_Simulation(system, vaccine_function):\n",
    "    vaccinated = TimeSeries();\n",
    "    infected = TimeSeries();\n",
    "    population = TimeSeries();\n",
    "    population[0] = system.initpopulation\n",
    "    vaccinated[0] = 0;\n",
    "    infected[0] = 0;\n",
    "    \n",
    "    vaccinated, infected, population = vaccine_function(system,vaccinated, infected, population);\n",
    "    \n",
    "    return population, vaccinated, infected"
   ]
  },
  {
   "cell_type": "code",
   "execution_count": null,
   "metadata": {},
   "outputs": [],
   "source": [
    "def plot_results(population, vaccinated, infected):\n",
    "    plot(population,':', label = 'Population');\n",
    "    plot(vaccinated, label ='Vaccinated');\n",
    "    plot(infected, \"--g\", label = 'Infected');\n",
    "    "
   ]
  },
  {
   "cell_type": "markdown",
   "metadata": {},
   "source": [
    "### Simulation"
   ]
  },
  {
   "cell_type": "markdown",
   "metadata": {},
   "source": [
    "With Vaccine"
   ]
  },
  {
   "cell_type": "code",
   "execution_count": null,
   "metadata": {
    "scrolled": true
   },
   "outputs": [],
   "source": [
    "system = Initialize_Simulation(300000000, vacc, .1,1,1.6/100000, .2) #initPopulation, vaccinationPercent, #infectionRate, vaccineEffectiveRate, infectDeathRate, #diseaseRecoveryRate\n",
    "\n",
    "population, vaccinated, infected = run_Simulation(system, sim_perfect_vaccine)\n",
    "\n",
    "plot_results(population, vaccinated, infected)"
   ]
  },
  {
   "cell_type": "markdown",
   "metadata": {},
   "source": [
    "Without Vaccine"
   ]
  },
  {
   "cell_type": "code",
   "execution_count": null,
   "metadata": {},
   "outputs": [],
   "source": [
    "system = Initialize_Simulation(300000000, vacc, .1,1,1.6/100000, .2) #initPopulation, vaccinationPercent, infectionRate, vaccineEffectiveRate, infectDeathRate, diseaseRecoveryRate\n",
    "\n",
    "population, vaccinated, infected = run_Simulation(system, sim_without_vaccine)\n",
    "\n",
    "plot_results(population, vaccinated, infected)"
   ]
  },
  {
   "cell_type": "markdown",
   "metadata": {},
   "source": [
    "### Metrics"
   ]
  },
  {
   "cell_type": "markdown",
   "metadata": {},
   "source": [
    "Well, we made a cool graph. Swell. But, how does that help us. In order to be able to draw results we need to consider some form of a metric. \n",
    "Enter: Death!\n",
    "We can measure how many people die in the two variations of the model and compare the results to see what sort of effect the vaccine has had.\n"
   ]
  },
  {
   "cell_type": "markdown",
   "metadata": {},
   "source": [
    "Let's start by adding a TimeSeries to measure death"
   ]
  },
  {
   "cell_type": "code",
   "execution_count": 18,
   "metadata": {},
   "outputs": [],
   "source": [
    "def Initialize_Simulation(\n",
    "    initPopulation,\n",
    "    vaccinationPercent,\n",
    "    infectionRate,\n",
    "    vaccineEffectiveRate,\n",
    "    infectDeathRate,\n",
    "    diseaseRecoveryRate):\n",
    "    return System(initpopulation=initPopulation,\n",
    "                  vaccinationPercent=vaccinationPercent,\n",
    "                  infection_rate=infectionRate,\n",
    "                  vaccineEffectiveRate=vaccineEffectiveRate,\n",
    "                  infectionDeathRate=infectDeathRate,\n",
    "                  diseaseRecoveryRate=diseaseRecoveryRate)"
   ]
  },
  {
   "cell_type": "code",
   "execution_count": 19,
   "metadata": {},
   "outputs": [],
   "source": [
    "def run_Simulation(system, vaccine_function):\n",
    "    vaccinated = TimeSeries();\n",
    "    infected = TimeSeries();\n",
    "    population = TimeSeries();\n",
    "    death = TimeSeries();\n",
    "    population[0] = system.initpopulation\n",
    "    vaccinated[0] = 0;\n",
    "    infected[0] = 0;\n",
    "    death[0] = 0;\n",
    "    \n",
    "    vaccinated, infected, population, death = vaccine_function(system,vaccinated, infected, population, death);\n",
    "    \n",
    "    return population, vaccinated, infected, death;"
   ]
  },
  {
   "cell_type": "code",
   "execution_count": 20,
   "metadata": {},
   "outputs": [],
   "source": [
    "def sim_imperfect_vaccine(system, vaccinated, infected, population, death):\n",
    "    for month in range(1, 11):\n",
    "        populationRatio = population[month-1]/(population[month-1]+ vaccinated[month-1]+infected[month-1])\n",
    "        vaccinatedRatio = vaccinated[month-1]/(population[month-1]+ vaccinated[month-1]+infected[month-1])\n",
    "        infectedRatio = infected[month-1]/(population[month-1]+ vaccinated[month-1]+infected[month-1])\n",
    "        \n",
    "        deltavaccinated = population[month-1] * system.vaccinationPercent[month-1] / 100 \\\n",
    "        + infected[month-1] * system.diseaseRecoveryRate \\\n",
    "        - death_pop[death_pop.columns[0]].iloc[month] * vaccinatedRatio;\n",
    "        \n",
    "        deltainfected = population[month-1] * system.infection_rate - infected[month-1] * system.infectionDeathRate \\\n",
    "        - infected[month-1] * system.diseaseRecoveryRate \\\n",
    "        -death_pop[death_pop.columns[0]].iloc[month] * infectedRatio\n",
    "         \n",
    "        vaccinated[month] = vaccinated[month-1] + deltavaccinated\n",
    "        infected[month] = infected[month-1] + deltainfected \n",
    "        population[month] = population[month-1] + birth_pop[birth_pop.columns[0]].iloc[month] - \\\n",
    "        death_pop[death_pop.columns[0]].iloc[month] *populationRatio - deltavaccinated - deltainfected\n",
    "        \n",
    "        death[i] = infected[month-1] * system.infectionDeathRate + death_pop[death_pop.columns[0]].iloc[month]\n",
    "\n",
    "    return vaccinated, infected, population, death"
   ]
  },
  {
   "cell_type": "code",
   "execution_count": 21,
   "metadata": {},
   "outputs": [],
   "source": [
    "def sim_without_vaccine(system, vaccinated, infected, population, death):\n",
    "    for month in range(1, 11):\n",
    "        populationRatio = population[month-1]/(population[month-1]+ vaccinated[month-1]+infected[month-1])\n",
    "        vaccinatedRatio = vaccinated[month-1]/(population[month-1]+ vaccinated[month-1]+infected[month-1])\n",
    "        infectedRatio = infected[month-1]/(population[month-1]+ vaccinated[month-1]+infected[month-1])\n",
    "\n",
    "        deltainfected = population[month-1] * system.infection_rate - infected[month-1] \\\n",
    "        * system.infectionDeathRate - infected[month-1] * system.diseaseRecoveryRate \\\n",
    "        - death_pop[death_pop.columns[0]].iloc[month] * infectedRatio;\n",
    "        \n",
    "        deltavaccinated = infected[month-1] * system.diseaseRecoveryRate \\\n",
    "        - death_pop[death_pop.columns[0]].iloc[month] *vaccinatedRatio; \n",
    "        \n",
    "        vaccinated[month] = vaccinated[month-1] + deltavaccinated;\n",
    "        infected[month] = infected[month-1] + deltainfected; \n",
    "        population[month] = population[month-1] + birth_pop[birth_pop.columns[0]].iloc[month] \\\n",
    "        - death_pop[death_pop.columns[0]].iloc[month] * populationRatio - deltainfected -deltavaccinated;\n",
    "        \n",
    "        death[i] = infected[month-1] * system.infectionDeathRate + death_pop[death_pop.columns[0]].iloc[month]\n",
    "\n",
    "    return vaccinated, infected, population, death"
   ]
  },
  {
   "cell_type": "code",
   "execution_count": 22,
   "metadata": {},
   "outputs": [],
   "source": [
    "def plot_results(population, vaccinated, infected):\n",
    "    plot(population,':', label = 'Population');\n",
    "    plot(vaccinated, label ='Vaccinated');\n",
    "    plot(infected, \"--g\", label = 'Infected');    "
   ]
  },
  {
   "cell_type": "markdown",
   "metadata": {},
   "source": [
    "With these changes, We can now run the simulation and plot the deaths over time"
   ]
  },
  {
   "cell_type": "code",
   "execution_count": 23,
   "metadata": {},
   "outputs": [],
   "source": [
    "def vaccine_Simulation():\n",
    "    system = Initialize_Simulation(300000000, vacc, .1,1,1.6/100000, .2) #initPopulation, vaccinationPercent, #infectionRate, vaccineEffectiveRate, infectDeathRate, #diseaseRecoveryRate\n",
    "\n",
    "    population, vaccinated, infected, death= run_Simulation(system, sim_imperfect_vaccine)\n",
    "\n",
    "    return death;"
   ]
  },
  {
   "cell_type": "code",
   "execution_count": 24,
   "metadata": {},
   "outputs": [],
   "source": [
    "def nonVaccine_Simulation():\n",
    "    system = Initialize_Simulation(300000000, vacc, .1,1,1.6/100000, .2) #initPopulation, vaccinationPercent, #infectionRate, vaccineEffectiveRate, infectDeathRate, #diseaseRecoveryRate\n",
    "\n",
    "    population, vaccinated, infected, death= run_Simulation(system, sim_without_vaccine)\n",
    "    return death;"
   ]
  },
  {
   "cell_type": "code",
   "execution_count": 25,
   "metadata": {},
   "outputs": [
    {
     "data": {
      "image/png": "[encoded data removed]",
      "text/plain": [
       "<Figure size 432x288 with 1 Axes>"
      ]
     },
     "metadata": {},
     "output_type": "display_data"
    }
   ],
   "source": [
    "WithVaccineDeath = vaccine_Simulation();\n",
    "WithoutVaccineDeath = nonVaccine_Simulation();\n",
    "\n",
    "plot (WithVaccineDeath);\n",
    "plot (WithoutVaccineDeath);\n",
    "plot (WithVaccineDeath, label = 'With Vaccine');\n",
    "plot (WithoutVaccineDeath, label = \"Without Vaccine\");\n",
    "decorate(title='Deaths',\n",
    "             xlabel='Months', \n",
    "             ylabel='Population (People)')"
   ]
  },
  {
   "cell_type": "markdown",
   "metadata": {},
   "source": [
    "The above plot shows the two lines as very nearly overlapping. In order to see a clearer picture, let us remove the general deaths and focus only on the influenza deaths"
   ]
  },
  {
   "cell_type": "code",
   "execution_count": 26,
   "metadata": {},
   "outputs": [],
   "source": [
    "def sim_without_vaccine(system, vaccinated, infected, population, death):\n",
    "    for month in range(1, 11):\n",
    "        populationRatio = population[month-1]/(population[month-1]+ vaccinated[month-1]+infected[month-1])\n",
    "        vaccinatedRatio = vaccinated[month-1]/(population[month-1]+ vaccinated[month-1]+infected[month-1])\n",
    "        infectedRatio = infected[month-1]/(population[month-1]+ vaccinated[month-1]+infected[month-1])\n",
    "\n",
    "        deltainfected = population[month-1] * system.infection_rate - infected[month-1] \\\n",
    "        * system.infectionDeathRate - infected[month-1] * system.diseaseRecoveryRate \\\n",
    "        - death_pop[death_pop.columns[0]].iloc[month] * infectedRatio;\n",
    "        \n",
    "        deltavaccinated = infected[month-1] * system.diseaseRecoveryRate \\\n",
    "        - death_pop[death_pop.columns[0]].iloc[month] *vaccinatedRatio; \n",
    "        \n",
    "        vaccinated[month] = vaccinated[month-1] + deltavaccinated;\n",
    "        infected[month] = infected[month-1] + deltainfected; \n",
    "        population[month] = population[month-1] + birth_pop[birth_pop.columns[0]].iloc[month] \\\n",
    "        - death_pop[death_pop.columns[0]].iloc[month] * populationRatio - deltainfected -deltavaccinated;\n",
    "        \n",
    "        death[i] = infected[month-1] * system.infectionDeathRate\n",
    "\n",
    "    return vaccinated, infected, population, death"
   ]
  },
  {
   "cell_type": "code",
   "execution_count": 27,
   "metadata": {},
   "outputs": [],
   "source": [
    "def sim_imperfect_vaccine(system, vaccinated, infected, population, death):\n",
    "    for month in range(1, 11):\n",
    "        populationRatio = population[month-1]/(population[month-1]+ vaccinated[month-1]+infected[month-1])\n",
    "        vaccinatedRatio = vaccinated[month-1]/(population[month-1]+ vaccinated[month-1]+infected[month-1])\n",
    "        infectedRatio = infected[month-1]/(population[month-1]+ vaccinated[month-1]+infected[month-1])\n",
    "        \n",
    "        deltavaccinated = population[month-1] * system.vaccinationPercent[month-1] / 100 \\\n",
    "        + infected[month-1] * system.diseaseRecoveryRate \\\n",
    "        - death_pop[death_pop.columns[0]].iloc[month] * vaccinatedRatio;\n",
    "        \n",
    "        deltainfected = population[month-1] * system.infection_rate - infected[month-1] * system.infectionDeathRate \\\n",
    "        - infected[month-1] * system.diseaseRecoveryRate \\\n",
    "        -death_pop[death_pop.columns[0]].iloc[month] * infectedRatio\n",
    "         \n",
    "        vaccinated[month] = vaccinated[month-1] + deltavaccinated\n",
    "        infected[month] = infected[month-1] + deltainfected \n",
    "        population[month] = population[month-1] + birth_pop[birth_pop.columns[0]].iloc[month] - \\\n",
    "        death_pop[death_pop.columns[0]].iloc[month] *populationRatio - deltavaccinated - deltainfected\n",
    "        \n",
    "        death[i] = infected[month-1] * system.infectionDeathRate \n",
    "\n",
    "    return vaccinated, infected, population, death"
   ]
  },
  {
   "cell_type": "code",
   "execution_count": 28,
   "metadata": {},
   "outputs": [
    {
     "name": "stdout",
     "output_type": "stream",
     "text": [
      "Death Count at end of year with Vaccine: 902.5168524731355\n",
      "Death Count at end of year without Vaccine: 1217.4114020402621\n"
     ]
    },
    {
     "data": {
      "image/png": "[encoded data removed]",
      "text/plain": [
       "<Figure size 432x288 with 1 Axes>"
      ]
     },
     "metadata": {},
     "output_type": "display_data"
    }
   ],
   "source": [
    "WithVaccineDeath = vaccine_Simulation();\n",
    "WithoutVaccineDeath = nonVaccine_Simulation();\n",
    "\n",
    "plot (WithVaccineDeath, label = 'With Vaccine');\n",
    "plot (WithoutVaccineDeath, label = \"Without Vaccine\");\n",
    "decorate(title='Deaths',\n",
    "             xlabel='Months', \n",
    "             ylabel='Population (People)')\n",
    "print('Death Count at end of year with Vaccine:', WithVaccineDeath[9])\n",
    "print('Death Count at end of year without Vaccine:', WithoutVaccineDeath[9])"
   ]
  },
  {
   "cell_type": "markdown",
   "metadata": {},
   "source": [
    "### Results\n",
    "With this graphic and the Death values displayed above it seems that the effects of the vaccine is indeed a benefitial one... RICHARD HALPPP"
   ]
  },
  {
   "cell_type": "markdown",
   "metadata": {},
   "source": [
    "### Interpretation"
   ]
  },
  {
   "cell_type": "code",
   "execution_count": null,
   "metadata": {},
   "outputs": [],
   "source": []
  }
 ],
 "metadata": {
  "kernelspec": {
   "display_name": "Python 3",
   "language": "python",
   "name": "python3"
  },
  "language_info": {
   "codemirror_mode": {
    "name": "ipython",
    "version": 3
   },
   "file_extension": ".py",
   "mimetype": "text/x-python",
   "name": "python",
   "nbconvert_exporter": "python",
   "pygments_lexer": "ipython3",
   "version": "3.6.6"
  }
 },
 "nbformat": 4,
 "nbformat_minor": 2
}
